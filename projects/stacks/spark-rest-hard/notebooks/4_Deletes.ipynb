{
 "cells": [
  {
   "cell_type": "markdown",
   "id": "c56119d8-fd30-4ece-80db-a51a17561949",
   "metadata": {},
   "source": [
    "# Deletes in Apache Iceberg"
   ]
  },
  {
   "cell_type": "code",
   "execution_count": 37,
   "id": "a7dd5dd5-24d4-4b5b-833b-34b50f7c9877",
   "metadata": {},
   "outputs": [],
   "source": [
    "from pyspark.sql import SparkSession\n",
    "import os"
   ]
  },
  {
   "cell_type": "code",
   "execution_count": 38,
   "id": "5b8fdf37-46ed-4bde-a28b-0afe31ada53d",
   "metadata": {},
   "outputs": [],
   "source": [
    "spark = (\n",
    "    SparkSession.builder\n",
    "    .appName(\"Iceberg REST via MinIO\")\n",
    "    .master(\"spark://spark:7077\") \n",
    "    .getOrCreate()\n",
    ")"
   ]
  },
  {
   "cell_type": "code",
   "execution_count": 30,
   "id": "7dd81256-dd66-4a8b-a781-5bb6ff7ce04a",
   "metadata": {},
   "outputs": [
    {
     "data": {
      "text/plain": [
       "DataFrame[]"
      ]
     },
     "execution_count": 30,
     "metadata": {},
     "output_type": "execute_result"
    }
   ],
   "source": [
    "spark.sql(\"\"\"DELETE FROM ice.demo.customers WHERE name like '%ak%'\"\"\")"
   ]
  },
  {
   "cell_type": "markdown",
   "id": "82db2803-cbc2-4f77-9593-2424c2ad851d",
   "metadata": {},
   "source": [
    "Next let's show the results"
   ]
  },
  {
   "cell_type": "code",
   "execution_count": 31,
   "id": "684a4f10-1781-450a-99ca-35735fbb0fae",
   "metadata": {},
   "outputs": [
    {
     "name": "stdout",
     "output_type": "stream",
     "text": [
      "+---+--------------+--------------------------+-------+\n",
      "|id |name          |email                     |country|\n",
      "+---+--------------+--------------------------+-------+\n",
      "|22 |Zoe King      |zoe.king@example.com      |US     |\n",
      "|21 |Jack Wilson   |jack.wilson@example.com   |US     |\n",
      "|15 |Isabella Rossi|isabella.rossi@example.com|US     |\n",
      "|1  |Alice Smith   |alice@example.com         |US     |\n",
      "|2  |Bob Johnson   |bob@example.com           |US     |\n",
      "|12 |Lucas Martin  |lucas.martin@example.com  |US     |\n",
      "|18 |Henry Scott   |henry.scott@example.com   |US     |\n",
      "|16 |James Nguyen  |james.nguyen@example.com  |US     |\n",
      "|5  |Maya Patel    |maya.patel@example.com    |US     |\n",
      "|7  |Sofia Almeida |sofia.almeida@example.com |US     |\n",
      "|19 |Aria Johnson  |aria.johnson@example.com  |US     |\n",
      "|3  |Carol Adams   |carol@example.com         |US     |\n",
      "|20 |Daniela Costa |daniela.costa@example.com |US     |\n",
      "|4  |Diego Ramirez |diego.ramirez@example.com |US     |\n",
      "|8  |Noah Williams |noah.williams@example.com |US     |\n",
      "|9  |Ava Thompson  |ava.thompson@example.com  |US     |\n",
      "|11 |Olivia Garcia |olivia.garcia@example.com |US     |\n",
      "|13 |Emma Robinson |emma.robinson@example.com |US     |\n",
      "|10 |Ethan Chen    |ethan.chen@example.com    |US     |\n",
      "|6  |Liam O’Connor |liam.oconnor@example.com  |US     |\n",
      "+---+--------------+--------------------------+-------+\n",
      "only showing top 20 rows\n",
      "\n"
     ]
    }
   ],
   "source": [
    "spark.sql(\"\"\"SELECT *\n",
    "FROM ice.demo.customers;\"\"\").show(truncate=False)"
   ]
  },
  {
   "cell_type": "markdown",
   "id": "a9fdc479-317f-4aac-a347-1114534d88af",
   "metadata": {},
   "source": [
    "Let's view the snapshots that have been committed up to this point and we will notice a `delete` operation as part of the snapshot history"
   ]
  },
  {
   "cell_type": "code",
   "execution_count": 32,
   "id": "b718a260-5c80-45d7-b5d7-95b6c8691eba",
   "metadata": {},
   "outputs": [
    {
     "name": "stdout",
     "output_type": "stream",
     "text": [
      "+-------------------+-----------------------+---------+\n",
      "|snapshot_id        |committed_at           |operation|\n",
      "+-------------------+-----------------------+---------+\n",
      "|6814943666969074901|2025-10-24 20:38:05.13 |delete   |\n",
      "|6630636699744048187|2025-10-24 20:37:41.29 |overwrite|\n",
      "|6759798167245958053|2025-10-24 20:36:58.629|append   |\n",
      "|1779365055955471184|2025-10-24 20:36:46.314|append   |\n",
      "+-------------------+-----------------------+---------+\n",
      "\n"
     ]
    }
   ],
   "source": [
    "spark.sql(\"\"\"SELECT snapshot_id, committed_at, operation\n",
    "FROM ice.demo.customers.snapshots\n",
    "ORDER BY committed_at DESC\n",
    "LIMIT 5;\"\"\").show(truncate=False)"
   ]
  },
  {
   "cell_type": "markdown",
   "id": "62af5dbc-7f94-4d8d-8ddc-3400316d5ee2",
   "metadata": {},
   "source": [
    "Again, let's go back in time, and see if we can see Mila"
   ]
  },
  {
   "cell_type": "code",
   "execution_count": 49,
   "id": "4f40c5b1-8dd6-4761-941d-c544bc200d5a",
   "metadata": {},
   "outputs": [
    {
     "data": {
      "text/html": [
       "<div>\n",
       "<style scoped>\n",
       "    .dataframe tbody tr th:only-of-type {\n",
       "        vertical-align: middle;\n",
       "    }\n",
       "\n",
       "    .dataframe tbody tr th {\n",
       "        vertical-align: top;\n",
       "    }\n",
       "\n",
       "    .dataframe thead th {\n",
       "        text-align: right;\n",
       "    }\n",
       "</style>\n",
       "<table border=\"1\" class=\"dataframe\">\n",
       "  <thead>\n",
       "    <tr style=\"text-align: right;\">\n",
       "      <th></th>\n",
       "      <th>id</th>\n",
       "      <th>name</th>\n",
       "      <th>email</th>\n",
       "      <th>country</th>\n",
       "    </tr>\n",
       "  </thead>\n",
       "  <tbody>\n",
       "    <tr>\n",
       "      <th>0</th>\n",
       "      <td>22</td>\n",
       "      <td>Zoe King</td>\n",
       "      <td>zoe.king@example.com</td>\n",
       "      <td>US</td>\n",
       "    </tr>\n",
       "    <tr>\n",
       "      <th>1</th>\n",
       "      <td>21</td>\n",
       "      <td>Jack Wilson</td>\n",
       "      <td>jack.wilson@example.com</td>\n",
       "      <td>US</td>\n",
       "    </tr>\n",
       "    <tr>\n",
       "      <th>2</th>\n",
       "      <td>15</td>\n",
       "      <td>Isabella Rossi</td>\n",
       "      <td>isabella.rossi@example.com</td>\n",
       "      <td>US</td>\n",
       "    </tr>\n",
       "    <tr>\n",
       "      <th>3</th>\n",
       "      <td>1</td>\n",
       "      <td>Alice Smith</td>\n",
       "      <td>alice@example.com</td>\n",
       "      <td>US</td>\n",
       "    </tr>\n",
       "    <tr>\n",
       "      <th>4</th>\n",
       "      <td>2</td>\n",
       "      <td>Bob Johnson</td>\n",
       "      <td>bob@example.com</td>\n",
       "      <td>US</td>\n",
       "    </tr>\n",
       "    <tr>\n",
       "      <th>5</th>\n",
       "      <td>12</td>\n",
       "      <td>Lucas Martin</td>\n",
       "      <td>lucas.martin@example.com</td>\n",
       "      <td>US</td>\n",
       "    </tr>\n",
       "    <tr>\n",
       "      <th>6</th>\n",
       "      <td>18</td>\n",
       "      <td>Henry Scott</td>\n",
       "      <td>henry.scott@example.com</td>\n",
       "      <td>US</td>\n",
       "    </tr>\n",
       "    <tr>\n",
       "      <th>7</th>\n",
       "      <td>16</td>\n",
       "      <td>James Nguyen</td>\n",
       "      <td>james.nguyen@example.com</td>\n",
       "      <td>US</td>\n",
       "    </tr>\n",
       "    <tr>\n",
       "      <th>8</th>\n",
       "      <td>5</td>\n",
       "      <td>Maya Patel</td>\n",
       "      <td>maya.patel@example.com</td>\n",
       "      <td>US</td>\n",
       "    </tr>\n",
       "    <tr>\n",
       "      <th>9</th>\n",
       "      <td>7</td>\n",
       "      <td>Sofia Almeida</td>\n",
       "      <td>sofia.almeida@example.com</td>\n",
       "      <td>US</td>\n",
       "    </tr>\n",
       "    <tr>\n",
       "      <th>10</th>\n",
       "      <td>19</td>\n",
       "      <td>Aria Johnson</td>\n",
       "      <td>aria.johnson@example.com</td>\n",
       "      <td>US</td>\n",
       "    </tr>\n",
       "    <tr>\n",
       "      <th>11</th>\n",
       "      <td>3</td>\n",
       "      <td>Carol Adams</td>\n",
       "      <td>carol@example.com</td>\n",
       "      <td>US</td>\n",
       "    </tr>\n",
       "    <tr>\n",
       "      <th>12</th>\n",
       "      <td>20</td>\n",
       "      <td>Daniela Costa</td>\n",
       "      <td>daniela.costa@example.com</td>\n",
       "      <td>US</td>\n",
       "    </tr>\n",
       "    <tr>\n",
       "      <th>13</th>\n",
       "      <td>4</td>\n",
       "      <td>Diego Ramirez</td>\n",
       "      <td>diego.ramirez@example.com</td>\n",
       "      <td>US</td>\n",
       "    </tr>\n",
       "    <tr>\n",
       "      <th>14</th>\n",
       "      <td>17</td>\n",
       "      <td>Mila Novak</td>\n",
       "      <td>mila.novak@example.com</td>\n",
       "      <td>US</td>\n",
       "    </tr>\n",
       "    <tr>\n",
       "      <th>15</th>\n",
       "      <td>8</td>\n",
       "      <td>Noah Williams</td>\n",
       "      <td>noah.williams@example.com</td>\n",
       "      <td>US</td>\n",
       "    </tr>\n",
       "    <tr>\n",
       "      <th>16</th>\n",
       "      <td>9</td>\n",
       "      <td>Ava Thompson</td>\n",
       "      <td>ava.thompson@example.com</td>\n",
       "      <td>US</td>\n",
       "    </tr>\n",
       "    <tr>\n",
       "      <th>17</th>\n",
       "      <td>11</td>\n",
       "      <td>Olivia Garcia</td>\n",
       "      <td>olivia.garcia@example.com</td>\n",
       "      <td>US</td>\n",
       "    </tr>\n",
       "    <tr>\n",
       "      <th>18</th>\n",
       "      <td>13</td>\n",
       "      <td>Emma Robinson</td>\n",
       "      <td>emma.robinson@example.com</td>\n",
       "      <td>US</td>\n",
       "    </tr>\n",
       "    <tr>\n",
       "      <th>19</th>\n",
       "      <td>10</td>\n",
       "      <td>Ethan Chen</td>\n",
       "      <td>ethan.chen@example.com</td>\n",
       "      <td>US</td>\n",
       "    </tr>\n",
       "    <tr>\n",
       "      <th>20</th>\n",
       "      <td>6</td>\n",
       "      <td>Liam O’Connor</td>\n",
       "      <td>liam.oconnor@example.com</td>\n",
       "      <td>US</td>\n",
       "    </tr>\n",
       "    <tr>\n",
       "      <th>21</th>\n",
       "      <td>14</td>\n",
       "      <td>Benjamin Kim</td>\n",
       "      <td>benjamin.kim@example.com</td>\n",
       "      <td>US</td>\n",
       "    </tr>\n",
       "    <tr>\n",
       "      <th>22</th>\n",
       "      <td>23</td>\n",
       "      <td>Oliver Brown</td>\n",
       "      <td>oliver.brown@example.com</td>\n",
       "      <td>US</td>\n",
       "    </tr>\n",
       "  </tbody>\n",
       "</table>\n",
       "</div>"
      ],
      "text/plain": [
       "    id            name                       email country\n",
       "0   22        Zoe King        zoe.king@example.com      US\n",
       "1   21     Jack Wilson     jack.wilson@example.com      US\n",
       "2   15  Isabella Rossi  isabella.rossi@example.com      US\n",
       "3    1     Alice Smith           alice@example.com      US\n",
       "4    2     Bob Johnson             bob@example.com      US\n",
       "5   12    Lucas Martin    lucas.martin@example.com      US\n",
       "6   18     Henry Scott     henry.scott@example.com      US\n",
       "7   16    James Nguyen    james.nguyen@example.com      US\n",
       "8    5      Maya Patel      maya.patel@example.com      US\n",
       "9    7   Sofia Almeida   sofia.almeida@example.com      US\n",
       "10  19    Aria Johnson    aria.johnson@example.com      US\n",
       "11   3     Carol Adams           carol@example.com      US\n",
       "12  20   Daniela Costa   daniela.costa@example.com      US\n",
       "13   4   Diego Ramirez   diego.ramirez@example.com      US\n",
       "14  17      Mila Novak      mila.novak@example.com      US\n",
       "15   8   Noah Williams   noah.williams@example.com      US\n",
       "16   9    Ava Thompson    ava.thompson@example.com      US\n",
       "17  11   Olivia Garcia   olivia.garcia@example.com      US\n",
       "18  13   Emma Robinson   emma.robinson@example.com      US\n",
       "19  10      Ethan Chen      ethan.chen@example.com      US\n",
       "20   6   Liam O’Connor    liam.oconnor@example.com      US\n",
       "21  14    Benjamin Kim    benjamin.kim@example.com      US\n",
       "22  23    Oliver Brown    oliver.brown@example.com      US"
      ]
     },
     "execution_count": 49,
     "metadata": {},
     "output_type": "execute_result"
    }
   ],
   "source": [
    "spark.sql(\"\"\"SELECT *\n",
    "FROM ice.demo.customers\n",
    "VERSION AS OF '6630636699744048187';\"\"\").show(truncate=False)"
   ]
  },
  {
   "cell_type": "code",
   "execution_count": 35,
   "id": "dc4ca027-05ab-432e-b24d-4940840ff73b",
   "metadata": {},
   "outputs": [],
   "source": [
    "spark.stop()"
   ]
  }
 ],
 "metadata": {
  "kernelspec": {
   "display_name": "Python 3 (ipykernel)",
   "language": "python",
   "name": "python3"
  },
  "language_info": {
   "codemirror_mode": {
    "name": "ipython",
    "version": 3
   },
   "file_extension": ".py",
   "mimetype": "text/x-python",
   "name": "python",
   "nbconvert_exporter": "python",
   "pygments_lexer": "ipython3",
   "version": "3.11.10"
  }
 },
 "nbformat": 4,
 "nbformat_minor": 5
}
