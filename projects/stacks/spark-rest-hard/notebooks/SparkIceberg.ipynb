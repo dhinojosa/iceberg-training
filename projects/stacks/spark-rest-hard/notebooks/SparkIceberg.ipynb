{
 "cells": [
  {
   "cell_type": "code",
   "execution_count": 1,
   "id": "d2a0218c-bcba-4bf3-bd55-0909ba6ffbcc",
   "metadata": {},
   "outputs": [],
   "source": [
    "from pyspark.sql import SparkSession\n",
    "import os"
   ]
  },
  {
   "cell_type": "code",
   "execution_count": 2,
   "id": "ce6107f8-3349-462a-ac30-73d300e2838f",
   "metadata": {
    "editable": true,
    "slideshow": {
     "slide_type": ""
    },
    "tags": []
   },
   "outputs": [],
   "source": [
    "ICEBERG_REST = \"http://iceberg-rest:8181\"\n",
    "MINIO_ENDPOINT = \"http://minio:9000\"\n",
    "AWS_REGION = \"us-east-1\"\n",
    "AWS_ACCESS_KEY_ID = os.getenv(\"AWS_ACCESS_KEY_ID\", \"minioadmin\")\n",
    "AWS_SECRET_ACCESS_KEY = os.getenv(\"AWS_SECRET_ACCESS_KEY\", \"minioadmin\")"
   ]
  },
  {
   "cell_type": "code",
   "execution_count": 6,
   "id": "aed0df7a-ecb3-402a-b970-a5d79bd2d2a5",
   "metadata": {},
   "outputs": [],
   "source": [
    "spark = (\n",
    "    SparkSession.builder\n",
    "    .appName(\"Iceberg REST via MinIO\")\n",
    "    .master(\"spark://spark:7077\")  # point to the standalone master\n",
    "    .config(\"spark.driver.host\", \"jupyter\")  # driver is this container; resolvable by workers\n",
    "    # Optional but useful:\n",
    "    # .config(\"spark.driver.port\", \"7078\")  # pin a port if you want (not needed if all on bridge)\n",
    "    # .config(\"spark.blockManager.port\", \"7079\")\n",
    "    .config(\"spark.eventLog.enabled\", \"true\")\n",
    "    .config(\"spark.eventLog.dir\", \"s3://spark-events/\")\n",
    "    .config(\"spark.sql.catalog.ice\", \"org.apache.iceberg.spark.SparkCatalog\")\n",
    "    .config(\"spark.sql.catalog.ice.type\", \"rest\")\n",
    "    .config(\"spark.sql.catalog.ice.uri\", ICEBERG_REST)\n",
    "    .config(\"spark.sql.catalog.ice.warehouse\", \"s3://warehouse/\")\n",
    "    .config(\"spark.sql.catalog.ice.io-impl\", \"org.apache.iceberg.aws.s3.S3FileIO\")\n",
    "    .config(\"spark.sql.catalog.ice.s3.endpoint\", MINIO_ENDPOINT)\n",
    "    .config(\"spark.sql.catalog.ice.s3.path-style-access\", \"true\")\n",
    "    .config(\"spark.sql.catalog.ice.s3.region\", AWS_REGION)\n",
    "    .config(\"spark.sql.catalog.ice.s3.access-key-id\", AWS_ACCESS_KEY_ID)\n",
    "    .config(\"spark.sql.catalog.ice.s3.secret-access-key\", AWS_SECRET_ACCESS_KEY)\n",
    "    .config(\"spark.hadoop.fs.s3a.endpoint\", MINIO_ENDPOINT)\n",
    "    .config(\"spark.hadoop.fs.s3a.path.style.access\", \"true\")\n",
    "    .getOrCreate()\n",
    ")\n"
   ]
  },
  {
   "cell_type": "code",
   "execution_count": 7,
   "id": "63d47f4c-86a9-490e-9af3-b7ac69c139fa",
   "metadata": {},
   "outputs": [
    {
     "name": "stdout",
     "output_type": "stream",
     "text": [
      "Spark version: 3.5.3\n"
     ]
    }
   ],
   "source": [
    "print(\"Spark version:\", spark.version)"
   ]
  },
  {
   "cell_type": "code",
   "execution_count": 8,
   "id": "4c0d9f41-8123-4b27-acee-1dfd2b825fb5",
   "metadata": {},
   "outputs": [
    {
     "name": "stdout",
     "output_type": "stream",
     "text": [
      "spark://spark:7077\n",
      "http://jupyter:4040\n"
     ]
    }
   ],
   "source": [
    "print(spark.sparkContext.master) # should be spark://spark:7077\n",
    "print(spark.sparkContext.uiWebUrl) # link to the app UI"
   ]
  },
  {
   "cell_type": "code",
   "execution_count": 9,
   "id": "3a72b252-0aa9-4e7c-bca8-eef22eadd906",
   "metadata": {},
   "outputs": [
    {
     "name": "stdout",
     "output_type": "stream",
     "text": [
      "+---------+\n",
      "|namespace|\n",
      "+---------+\n",
      "+---------+\n",
      "\n"
     ]
    }
   ],
   "source": [
    "spark.sql(\"SHOW NAMESPACES IN ice\").show(truncate=False)"
   ]
  },
  {
   "cell_type": "code",
   "execution_count": 11,
   "id": "e7f4bd83-2067-4759-9f8b-63bbbe62fd92",
   "metadata": {},
   "outputs": [
    {
     "data": {
      "text/plain": [
       "DataFrame[]"
      ]
     },
     "execution_count": 11,
     "metadata": {},
     "output_type": "execute_result"
    }
   ],
   "source": [
    "spark.sql(\"CREATE NAMESPACE IF NOT EXISTS ice.demo\")"
   ]
  },
  {
   "cell_type": "code",
   "execution_count": 12,
   "id": "69fc7873-9d13-4447-ac56-316801bc4e0e",
   "metadata": {},
   "outputs": [
    {
     "name": "stdout",
     "output_type": "stream",
     "text": [
      "+---------+\n",
      "|namespace|\n",
      "+---------+\n",
      "|demo     |\n",
      "+---------+\n",
      "\n"
     ]
    }
   ],
   "source": [
    "spark.sql(\"SHOW NAMESPACES IN ice\").show(truncate=False)"
   ]
  },
  {
   "cell_type": "code",
   "execution_count": 29,
   "id": "d06b8d93-10b9-49b4-a509-b2c84de19592",
   "metadata": {},
   "outputs": [
    {
     "name": "stdout",
     "output_type": "stream",
     "text": [
      "env: AWS_REGION=us-east-1\n",
      "env: AWS_ACCESS_KEY_ID=minioadmin\n",
      "env: AWS_SECRET_ACCESS_KEY=minioadmin\n"
     ]
    }
   ],
   "source": [
    "%env AWS_REGION=us-east-1\n",
    "%env AWS_ACCESS_KEY_ID=minioadmin\n",
    "%env AWS_SECRET_ACCESS_KEY=minioadmin"
   ]
  },
  {
   "cell_type": "code",
   "execution_count": 13,
   "id": "72a09cfe-a638-4774-97fc-213ca45c8260",
   "metadata": {},
   "outputs": [
    {
     "data": {
      "text/plain": [
       "DataFrame[]"
      ]
     },
     "execution_count": 13,
     "metadata": {},
     "output_type": "execute_result"
    }
   ],
   "source": [
    "spark.sql(\"\"\"\n",
    "    CREATE TABLE IF NOT EXISTS ice.demo.customers (\n",
    "        id BIGINT,\n",
    "        name STRING,\n",
    "        email STRING\n",
    "    )\n",
    "    USING iceberg\n",
    "    PARTITIONED BY (email)\n",
    "\"\"\")"
   ]
  },
  {
   "cell_type": "code",
   "execution_count": 14,
   "id": "c2d92ee4-3a6b-4a6f-b7c9-662eba80da22",
   "metadata": {},
   "outputs": [
    {
     "data": {
      "text/plain": [
       "DataFrame[]"
      ]
     },
     "execution_count": 14,
     "metadata": {},
     "output_type": "execute_result"
    }
   ],
   "source": [
    "spark.sql(\"\"\"\n",
    "    INSERT INTO ice.demo.customers VALUES\n",
    "      (1, 'Alice Smith', 'alice@example.com'),\n",
    "      (2, 'Bob Johnson', 'bob@example.com'),\n",
    "      (3, 'Carol Adams', 'carol@example.com')\n",
    "\"\"\")"
   ]
  },
  {
   "cell_type": "markdown",
   "id": "a1ba57b3-dde5-4864-b027-38451fe8bdff",
   "metadata": {},
   "source": [
    "Select the customers"
   ]
  },
  {
   "cell_type": "code",
   "execution_count": 15,
   "id": "de3bd04c-b673-4c11-88e0-6b0a73994978",
   "metadata": {},
   "outputs": [
    {
     "name": "stdout",
     "output_type": "stream",
     "text": [
      "+---+-----------+-----------------+\n",
      "| id|       name|            email|\n",
      "+---+-----------+-----------------+\n",
      "|  3|Carol Adams|carol@example.com|\n",
      "|  1|Alice Smith|alice@example.com|\n",
      "|  2|Bob Johnson|  bob@example.com|\n",
      "+---+-----------+-----------------+\n",
      "\n"
     ]
    }
   ],
   "source": [
    "spark.sql(\"SELECT * FROM ice.demo.customers\").show()"
   ]
  },
  {
   "cell_type": "markdown",
   "id": "f2a5949c-9655-411b-b3ed-af117e01e1ad",
   "metadata": {},
   "source": [
    "Select the customers with an `o`"
   ]
  },
  {
   "cell_type": "code",
   "execution_count": 16,
   "id": "1dc77508-ccf5-4467-a8ad-616210af43c4",
   "metadata": {},
   "outputs": [
    {
     "name": "stdout",
     "output_type": "stream",
     "text": [
      "+---+-----------+-----------------+\n",
      "| id|       name|            email|\n",
      "+---+-----------+-----------------+\n",
      "|  3|Carol Adams|carol@example.com|\n",
      "|  2|Bob Johnson|  bob@example.com|\n",
      "+---+-----------+-----------------+\n",
      "\n"
     ]
    }
   ],
   "source": [
    "spark.sql(\"SELECT * FROM ice.demo.customers WHERE name like '%o%'\").show()"
   ]
  },
  {
   "cell_type": "markdown",
   "id": "b250d6f5-829d-4360-8f6e-6531d9fe845d",
   "metadata": {},
   "source": [
    "Let's add some more data to our DataLake"
   ]
  },
  {
   "cell_type": "code",
   "execution_count": 17,
   "id": "2ecb9f4c-7ca4-49ee-b1b9-bbb43fd62814",
   "metadata": {},
   "outputs": [
    {
     "data": {
      "text/plain": [
       "DataFrame[]"
      ]
     },
     "execution_count": 17,
     "metadata": {},
     "output_type": "execute_result"
    }
   ],
   "source": [
    "spark.sql(\"\"\"\n",
    "    INSERT INTO ice.demo.customers VALUES\n",
    "      (4,  'Diego Ramirez',       'diego.ramirez@example.com'),\n",
    "      (5,  'Maya Patel',          'maya.patel@example.com'),\n",
    "      (6,  'Liam O’Connor',       'liam.oconnor@example.com'),\n",
    "      (7,  'Sofia Almeida',       'sofia.almeida@example.com'),\n",
    "      (8,  'Noah Williams',       'noah.williams@example.com'),\n",
    "      (9,  'Ava Thompson',        'ava.thompson@example.com'),\n",
    "      (10, 'Ethan Chen',          'ethan.chen@example.com'),\n",
    "      (11, 'Olivia Garcia',       'olivia.garcia@example.com'),\n",
    "      (12, 'Lucas Martin',        'lucas.martin@example.com'),\n",
    "      (13, 'Emma Robinson',       'emma.robinson@example.com'),\n",
    "      (14, 'Benjamin Kim',        'benjamin.kim@example.com'),\n",
    "      (15, 'Isabella Rossi',      'isabella.rossi@example.com'),\n",
    "      (16, 'James Nguyen',        'james.nguyen@example.com'),\n",
    "      (17, 'Mila Novak',          'mila.novak@example.com'),\n",
    "      (18, 'Henry Scott',         'henry.scott@example.com'),\n",
    "      (19, 'Aria Johnson',        'aria.johnson@example.com'),\n",
    "      (20, 'Daniela Costa',       'daniela.costa@example.com'),\n",
    "      (21, 'Jack Wilson',         'jack.wilson@example.com'),\n",
    "      (22, 'Zoe King',            'zoe.king@example.com'),\n",
    "      (23, 'Oliver Brown',        'oliver.brown@example.com')\n",
    "\"\"\")"
   ]
  },
  {
   "cell_type": "markdown",
   "id": "c5284170-fec8-420e-80c7-2578aca0c5c4",
   "metadata": {},
   "source": [
    "Let's run our query"
   ]
  },
  {
   "cell_type": "code",
   "execution_count": 18,
   "id": "2fd099c5-e0f7-4d86-a551-1f377e9e2829",
   "metadata": {},
   "outputs": [
    {
     "name": "stdout",
     "output_type": "stream",
     "text": [
      "+---+--------------+--------------------+\n",
      "| id|          name|               email|\n",
      "+---+--------------+--------------------+\n",
      "| 22|      Zoe King|zoe.king@example.com|\n",
      "| 21|   Jack Wilson|jack.wilson@examp...|\n",
      "| 15|Isabella Rossi|isabella.rossi@ex...|\n",
      "| 18|   Henry Scott|henry.scott@examp...|\n",
      "|  7| Sofia Almeida|sofia.almeida@exa...|\n",
      "| 19|  Aria Johnson|aria.johnson@exam...|\n",
      "| 20| Daniela Costa|daniela.costa@exa...|\n",
      "|  4| Diego Ramirez|diego.ramirez@exa...|\n",
      "|  8| Noah Williams|noah.williams@exa...|\n",
      "| 17|    Mila Novak|mila.novak@exampl...|\n",
      "|  9|  Ava Thompson|ava.thompson@exam...|\n",
      "| 13| Emma Robinson|emma.robinson@exa...|\n",
      "|  6| Liam O’Connor|liam.oconnor@exam...|\n",
      "| 23|  Oliver Brown|oliver.brown@exam...|\n",
      "|  3|   Carol Adams|   carol@example.com|\n",
      "|  2|   Bob Johnson|     bob@example.com|\n",
      "+---+--------------+--------------------+\n",
      "\n"
     ]
    }
   ],
   "source": [
    "spark.sql(\"SELECT * FROM ice.demo.customers WHERE name like '%o%'\").show()"
   ]
  },
  {
   "cell_type": "markdown",
   "id": "627db932-c7c8-4c2e-9c91-7b252f26ef34",
   "metadata": {},
   "source": [
    "Let's view the snapshots, we had two batches, done at different times. So we should see two snapshots"
   ]
  },
  {
   "cell_type": "code",
   "execution_count": 19,
   "id": "7b43bff6-c2e8-42b9-b237-45e5d2dcfe6c",
   "metadata": {},
   "outputs": [
    {
     "name": "stdout",
     "output_type": "stream",
     "text": [
      "+-------------------+-----------------------+---------+\n",
      "|snapshot_id        |committed_at           |operation|\n",
      "+-------------------+-----------------------+---------+\n",
      "|6418764763303810672|2025-09-10 18:57:49.224|append   |\n",
      "|5585728760866818996|2025-09-10 18:58:00.554|append   |\n",
      "+-------------------+-----------------------+---------+\n",
      "\n"
     ]
    }
   ],
   "source": [
    "spark.sql(\"\"\"\n",
    "  SELECT snapshot_id, committed_at, operation\n",
    "  FROM ice.demo.customers.snapshots\n",
    "  ORDER BY committed_at\n",
    "\"\"\").show(truncate=False)"
   ]
  },
  {
   "cell_type": "markdown",
   "id": "5c511cb1-653b-4690-a448-8f2cf336a839",
   "metadata": {},
   "source": [
    "Let's now view the lineage of the data"
   ]
  },
  {
   "cell_type": "code",
   "execution_count": 20,
   "id": "ed1d489d-8c4d-4248-bb41-b3a9788feeef",
   "metadata": {},
   "outputs": [
    {
     "name": "stdout",
     "output_type": "stream",
     "text": [
      "+-----------------------+-------------------+-------------------+-------------------+\n",
      "|made_current_at        |snapshot_id        |parent_id          |is_current_ancestor|\n",
      "+-----------------------+-------------------+-------------------+-------------------+\n",
      "|2025-09-10 18:57:49.224|6418764763303810672|NULL               |true               |\n",
      "|2025-09-10 18:58:00.554|5585728760866818996|6418764763303810672|true               |\n",
      "+-----------------------+-------------------+-------------------+-------------------+\n",
      "\n"
     ]
    }
   ],
   "source": [
    "spark.sql(\"\"\"\n",
    "  SELECT made_current_at, snapshot_id, parent_id, is_current_ancestor\n",
    "  FROM ice.demo.customers.history\n",
    "  ORDER BY made_current_at\n",
    "\"\"\").show(truncate=False)"
   ]
  },
  {
   "cell_type": "markdown",
   "id": "9305a66b-6a56-4a33-8740-65b5fa254100",
   "metadata": {},
   "source": [
    "Now, let's go back in time by reverting the timestamp"
   ]
  },
  {
   "cell_type": "code",
   "execution_count": 21,
   "id": "ddb8cd45-1ef7-4de9-bb57-ebb69d651a18",
   "metadata": {},
   "outputs": [
    {
     "name": "stdout",
     "output_type": "stream",
     "text": [
      "+---+-----------+-----------------+\n",
      "| id|       name|            email|\n",
      "+---+-----------+-----------------+\n",
      "|  3|Carol Adams|carol@example.com|\n",
      "|  1|Alice Smith|alice@example.com|\n",
      "|  2|Bob Johnson|  bob@example.com|\n",
      "+---+-----------+-----------------+\n",
      "\n"
     ]
    }
   ],
   "source": [
    "spark.conf.set(\"spark.sql.session.timeZone\", \"UTC\")\n",
    "\n",
    "# Replace the following timestamp with one after the initial timestamp\n",
    "ts = \"2025-09-10 18:57:49.225\"\n",
    "\n",
    "df_ts = spark.sql(f\"\"\"\n",
    "  SELECT *\n",
    "  FROM ice.demo.customers\n",
    "  TIMESTAMP AS OF '{ts}'\n",
    "\"\"\")\n",
    "df_ts.show()"
   ]
  },
  {
   "cell_type": "code",
   "execution_count": 26,
   "id": "e9d3f8b7-404e-4c37-8f2a-984e754d88d8",
   "metadata": {},
   "outputs": [
    {
     "name": "stdout",
     "output_type": "stream",
     "text": [
      "+-------------------+-----------------------+---------+\n",
      "|snapshot_id        |committed_at           |operation|\n",
      "+-------------------+-----------------------+---------+\n",
      "|5585728760866818996|2025-09-10 18:58:00.554|append   |\n",
      "|6418764763303810672|2025-09-10 18:57:49.224|append   |\n",
      "+-------------------+-----------------------+---------+\n",
      "\n"
     ]
    }
   ],
   "source": [
    "spark.sql(\"\"\"SELECT snapshot_id, committed_at, operation\n",
    "FROM ice.demo.customers.snapshots\n",
    "ORDER BY committed_at DESC\n",
    "LIMIT 5;\"\"\").show(truncate=False)"
   ]
  },
  {
   "cell_type": "code",
   "execution_count": 29,
   "id": "d8b3de80-8294-4037-90ad-76214fdd2a0a",
   "metadata": {},
   "outputs": [
    {
     "name": "stdout",
     "output_type": "stream",
     "text": [
      "+-------------------+--------------------+\n",
      "|        snapshot_id|        committed_at|\n",
      "+-------------------+--------------------+\n",
      "|5585728760866818996|2025-09-10 18:58:...|\n",
      "|6418764763303810672|2025-09-10 18:57:...|\n",
      "+-------------------+--------------------+\n",
      "\n"
     ]
    }
   ],
   "source": [
    "snapshots = spark.sql(\"\"\"\n",
    "  SELECT snapshot_id, committed_at\n",
    "  FROM ice.demo.customers.snapshots\n",
    "  ORDER BY committed_at DESC\n",
    "\"\"\")\n",
    "snapshots.show()\n"
   ]
  },
  {
   "cell_type": "code",
   "execution_count": 30,
   "id": "dc4ca027-05ab-432e-b24d-4940840ff73b",
   "metadata": {},
   "outputs": [],
   "source": [
    "spark.stop()"
   ]
  }
 ],
 "metadata": {
  "kernelspec": {
   "display_name": "Python 3 (ipykernel)",
   "language": "python",
   "name": "python3"
  },
  "language_info": {
   "codemirror_mode": {
    "name": "ipython",
    "version": 3
   },
   "file_extension": ".py",
   "mimetype": "text/x-python",
   "name": "python",
   "nbconvert_exporter": "python",
   "pygments_lexer": "ipython3",
   "version": "3.11.10"
  }
 },
 "nbformat": 4,
 "nbformat_minor": 5
}
