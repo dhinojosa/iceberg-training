{
 "cells": [
  {
   "cell_type": "markdown",
   "id": "c56119d8-fd30-4ece-80db-a51a17561949",
   "metadata": {},
   "source": [
    "# Apache Iceberg in Spark"
   ]
  },
  {
   "cell_type": "markdown",
   "id": "bad65109-1f72-474c-a042-33c4528b2aca",
   "metadata": {},
   "source": [
    "## Demo 1: Apache Iceberg"
   ]
  },
  {
   "cell_type": "code",
   "execution_count": 1,
   "id": "d2a0218c-bcba-4bf3-bd55-0909ba6ffbcc",
   "metadata": {},
   "outputs": [],
   "source": [
    "from pyspark.sql import SparkSession\n",
    "import os"
   ]
  },
  {
   "cell_type": "code",
   "execution_count": 2,
   "id": "ce6107f8-3349-462a-ac30-73d300e2838f",
   "metadata": {
    "editable": true,
    "slideshow": {
     "slide_type": ""
    },
    "tags": []
   },
   "outputs": [],
   "source": [
    "ICEBERG_REST = \"http://iceberg-rest:8181\"\n",
    "MINIO_ENDPOINT = \"http://minio:9000\"\n",
    "AWS_REGION = \"us-east-1\"\n",
    "AWS_ACCESS_KEY_ID = os.getenv(\"AWS_ACCESS_KEY_ID\", \"minioadmin\")\n",
    "AWS_SECRET_ACCESS_KEY = os.getenv(\"AWS_SECRET_ACCESS_KEY\", \"minioadmin\")"
   ]
  },
  {
   "cell_type": "code",
   "execution_count": 3,
   "id": "641847a0-b7f0-4f9d-9ed8-9c9a3c7f4641",
   "metadata": {},
   "outputs": [
    {
     "name": "stdout",
     "output_type": "stream",
     "text": [
      "minioadmin\n",
      "minioadmin\n"
     ]
    }
   ],
   "source": [
    "print(AWS_ACCESS_KEY_ID)\n",
    "print(AWS_SECRET_ACCESS_KEY)"
   ]
  },
  {
   "cell_type": "code",
   "execution_count": 4,
   "id": "aed0df7a-ecb3-402a-b970-a5d79bd2d2a5",
   "metadata": {},
   "outputs": [],
   "source": [
    "spark = (\n",
    "    SparkSession.builder\n",
    "    .appName(\"Iceberg REST via MinIO\")\n",
    "    .master(\"spark://spark:7077\") \n",
    "    .config(\"spark.sql.catalog.ice\", \"org.apache.iceberg.spark.SparkCatalog\")\n",
    "    .config(\"spark.sql.catalog.ice.type\", \"rest\")\n",
    "    .config(\"spark.sql.catalog.ice.uri\", ICEBERG_REST)\n",
    "    .config(\"spark.sql.catalog.ice.warehouse\", \"s3://warehouse/\")\n",
    "    .config(\"spark.sql.catalog.ice.io-impl\", \"org.apache.iceberg.aws.s3.S3FileIO\")\n",
    "    .config(\"spark.sql.catalog.ice.s3.endpoint\", MINIO_ENDPOINT)\n",
    "    .config(\"spark.sql.catalog.ice.s3.path-style-access\", \"true\")\n",
    "    .config(\"spark.sql.catalog.ice.s3.region\", AWS_REGION)\n",
    "    .config(\"spark.sql.catalog.ice.s3.access-key-id\", AWS_ACCESS_KEY_ID)\n",
    "    .config(\"spark.sql.catalog.ice.s3.secret-access-key\", AWS_SECRET_ACCESS_KEY)\n",
    "    .getOrCreate()\n",
    ")\n"
   ]
  },
  {
   "cell_type": "code",
   "execution_count": 5,
   "id": "63d47f4c-86a9-490e-9af3-b7ac69c139fa",
   "metadata": {},
   "outputs": [
    {
     "name": "stdout",
     "output_type": "stream",
     "text": [
      "Spark version: 3.5.3\n"
     ]
    }
   ],
   "source": [
    "print(\"Spark version:\", spark.version)"
   ]
  },
  {
   "cell_type": "code",
   "execution_count": 6,
   "id": "4c0d9f41-8123-4b27-acee-1dfd2b825fb5",
   "metadata": {},
   "outputs": [
    {
     "name": "stdout",
     "output_type": "stream",
     "text": [
      "spark://spark:7077\n",
      "http://2126d9981963:4040\n"
     ]
    }
   ],
   "source": [
    "print(spark.sparkContext.master) # should be spark://spark:7077\n",
    "print(spark.sparkContext.uiWebUrl) # link to the app UI"
   ]
  },
  {
   "cell_type": "code",
   "execution_count": 7,
   "id": "3a72b252-0aa9-4e7c-bca8-eef22eadd906",
   "metadata": {},
   "outputs": [
    {
     "name": "stdout",
     "output_type": "stream",
     "text": [
      "+---------+\n",
      "|namespace|\n",
      "+---------+\n",
      "+---------+\n",
      "\n"
     ]
    }
   ],
   "source": [
    "spark.sql(\"SHOW NAMESPACES IN ice\").show(truncate=False)"
   ]
  },
  {
   "cell_type": "code",
   "execution_count": 8,
   "id": "e7f4bd83-2067-4759-9f8b-63bbbe62fd92",
   "metadata": {},
   "outputs": [
    {
     "data": {
      "text/plain": [
       "DataFrame[]"
      ]
     },
     "execution_count": 8,
     "metadata": {},
     "output_type": "execute_result"
    }
   ],
   "source": [
    "spark.sql(\"CREATE NAMESPACE IF NOT EXISTS ice.demo\")"
   ]
  },
  {
   "cell_type": "code",
   "execution_count": 9,
   "id": "69fc7873-9d13-4447-ac56-316801bc4e0e",
   "metadata": {},
   "outputs": [
    {
     "name": "stdout",
     "output_type": "stream",
     "text": [
      "+---------+\n",
      "|namespace|\n",
      "+---------+\n",
      "|demo     |\n",
      "+---------+\n",
      "\n"
     ]
    }
   ],
   "source": [
    "spark.sql(\"SHOW NAMESPACES IN ice\").show(truncate=False)"
   ]
  },
  {
   "cell_type": "code",
   "execution_count": 10,
   "id": "d06b8d93-10b9-49b4-a509-b2c84de19592",
   "metadata": {},
   "outputs": [
    {
     "name": "stdout",
     "output_type": "stream",
     "text": [
      "env: AWS_REGION=us-east-1\n",
      "env: AWS_ACCESS_KEY_ID=minioadmin\n",
      "env: AWS_SECRET_ACCESS_KEY=minioadmin\n"
     ]
    }
   ],
   "source": [
    "%env AWS_REGION=us-east-1\n",
    "%env AWS_ACCESS_KEY_ID=minioadmin\n",
    "%env AWS_SECRET_ACCESS_KEY=minioadmin"
   ]
  },
  {
   "cell_type": "code",
   "execution_count": 11,
   "id": "72a09cfe-a638-4774-97fc-213ca45c8260",
   "metadata": {},
   "outputs": [
    {
     "data": {
      "text/plain": [
       "DataFrame[]"
      ]
     },
     "execution_count": 11,
     "metadata": {},
     "output_type": "execute_result"
    }
   ],
   "source": [
    "spark.sql(\"\"\"\n",
    "    CREATE TABLE IF NOT EXISTS ice.demo.customers (\n",
    "        id BIGINT,\n",
    "        name STRING,\n",
    "        email STRING\n",
    "    )\n",
    "    USING iceberg\n",
    "    PARTITIONED BY (email)\n",
    "\"\"\")"
   ]
  },
  {
   "cell_type": "code",
   "execution_count": 12,
   "id": "c2d92ee4-3a6b-4a6f-b7c9-662eba80da22",
   "metadata": {},
   "outputs": [
    {
     "data": {
      "text/plain": [
       "DataFrame[]"
      ]
     },
     "execution_count": 12,
     "metadata": {},
     "output_type": "execute_result"
    }
   ],
   "source": [
    "spark.sql(\"\"\"\n",
    "    INSERT INTO ice.demo.customers VALUES\n",
    "      (1, 'Alice Smith', 'alice@example.com'),\n",
    "      (2, 'Bob Johnson', 'bob@example.com'),\n",
    "      (3, 'Carol Adams', 'carol@example.com')\n",
    "\"\"\")"
   ]
  },
  {
   "cell_type": "markdown",
   "id": "a1ba57b3-dde5-4864-b027-38451fe8bdff",
   "metadata": {},
   "source": [
    "Select the customers"
   ]
  },
  {
   "cell_type": "code",
   "execution_count": 13,
   "id": "de3bd04c-b673-4c11-88e0-6b0a73994978",
   "metadata": {},
   "outputs": [
    {
     "name": "stdout",
     "output_type": "stream",
     "text": [
      "+---+-----------+-----------------+\n",
      "| id|       name|            email|\n",
      "+---+-----------+-----------------+\n",
      "|  3|Carol Adams|carol@example.com|\n",
      "|  1|Alice Smith|alice@example.com|\n",
      "|  2|Bob Johnson|  bob@example.com|\n",
      "+---+-----------+-----------------+\n",
      "\n"
     ]
    }
   ],
   "source": [
    "spark.sql(\"SELECT * FROM ice.demo.customers\").show()"
   ]
  },
  {
   "cell_type": "markdown",
   "id": "f2a5949c-9655-411b-b3ed-af117e01e1ad",
   "metadata": {},
   "source": [
    "Select the customers with an `o`"
   ]
  },
  {
   "cell_type": "code",
   "execution_count": 14,
   "id": "1dc77508-ccf5-4467-a8ad-616210af43c4",
   "metadata": {},
   "outputs": [
    {
     "name": "stdout",
     "output_type": "stream",
     "text": [
      "+---+-----------+-----------------+\n",
      "| id|       name|            email|\n",
      "+---+-----------+-----------------+\n",
      "|  3|Carol Adams|carol@example.com|\n",
      "|  2|Bob Johnson|  bob@example.com|\n",
      "+---+-----------+-----------------+\n",
      "\n"
     ]
    }
   ],
   "source": [
    "spark.sql(\"SELECT * FROM ice.demo.customers WHERE name like '%o%'\").show()"
   ]
  },
  {
   "cell_type": "markdown",
   "id": "b250d6f5-829d-4360-8f6e-6531d9fe845d",
   "metadata": {},
   "source": [
    "Let's add some more data to our DataLake"
   ]
  },
  {
   "cell_type": "code",
   "execution_count": 15,
   "id": "2ecb9f4c-7ca4-49ee-b1b9-bbb43fd62814",
   "metadata": {},
   "outputs": [
    {
     "data": {
      "text/plain": [
       "DataFrame[]"
      ]
     },
     "execution_count": 15,
     "metadata": {},
     "output_type": "execute_result"
    }
   ],
   "source": [
    "spark.sql(\"\"\"\n",
    "    INSERT INTO ice.demo.customers VALUES\n",
    "      (4,  'Diego Ramirez',       'diego.ramirez@example.com'),\n",
    "      (5,  'Maya Patel',          'maya.patel@example.com'),\n",
    "      (6,  'Liam O’Connor',       'liam.oconnor@example.com'),\n",
    "      (7,  'Sofia Almeida',       'sofia.almeida@example.com'),\n",
    "      (8,  'Noah Williams',       'noah.williams@example.com'),\n",
    "      (9,  'Ava Thompson',        'ava.thompson@example.com'),\n",
    "      (10, 'Ethan Chen',          'ethan.chen@example.com'),\n",
    "      (11, 'Olivia Garcia',       'olivia.garcia@example.com'),\n",
    "      (12, 'Lucas Martin',        'lucas.martin@example.com'),\n",
    "      (13, 'Emma Robinson',       'emma.robinson@example.com'),\n",
    "      (14, 'Benjamin Kim',        'benjamin.kim@example.com'),\n",
    "      (15, 'Isabella Rossi',      'isabella.rossi@example.com'),\n",
    "      (16, 'James Nguyen',        'james.nguyen@example.com'),\n",
    "      (17, 'Mila Novak',          'mila.novak@example.com'),\n",
    "      (18, 'Henry Scott',         'henry.scott@example.com'),\n",
    "      (19, 'Aria Johnson',        'aria.johnson@example.com'),\n",
    "      (20, 'Daniela Costa',       'daniela.costa@example.com'),\n",
    "      (21, 'Jack Wilson',         'jack.wilson@example.com'),\n",
    "      (22, 'Zoe King',            'zoe.king@example.com'),\n",
    "      (23, 'Oliver Brown',        'oliver.brown@example.com')\n",
    "\"\"\")"
   ]
  },
  {
   "cell_type": "markdown",
   "id": "c5284170-fec8-420e-80c7-2578aca0c5c4",
   "metadata": {},
   "source": [
    "Let's run our query"
   ]
  },
  {
   "cell_type": "code",
   "execution_count": 16,
   "id": "2fd099c5-e0f7-4d86-a551-1f377e9e2829",
   "metadata": {},
   "outputs": [
    {
     "name": "stdout",
     "output_type": "stream",
     "text": [
      "+---+--------------+--------------------+\n",
      "| id|          name|               email|\n",
      "+---+--------------+--------------------+\n",
      "|  3|   Carol Adams|   carol@example.com|\n",
      "|  2|   Bob Johnson|     bob@example.com|\n",
      "| 22|      Zoe King|zoe.king@example.com|\n",
      "| 21|   Jack Wilson|jack.wilson@examp...|\n",
      "| 15|Isabella Rossi|isabella.rossi@ex...|\n",
      "| 18|   Henry Scott|henry.scott@examp...|\n",
      "|  7| Sofia Almeida|sofia.almeida@exa...|\n",
      "| 19|  Aria Johnson|aria.johnson@exam...|\n",
      "| 20| Daniela Costa|daniela.costa@exa...|\n",
      "|  4| Diego Ramirez|diego.ramirez@exa...|\n",
      "|  8| Noah Williams|noah.williams@exa...|\n",
      "| 17|    Mila Novak|mila.novak@exampl...|\n",
      "|  9|  Ava Thompson|ava.thompson@exam...|\n",
      "| 13| Emma Robinson|emma.robinson@exa...|\n",
      "|  6| Liam O’Connor|liam.oconnor@exam...|\n",
      "| 23|  Oliver Brown|oliver.brown@exam...|\n",
      "+---+--------------+--------------------+\n",
      "\n"
     ]
    }
   ],
   "source": [
    "spark.sql(\"SELECT * FROM ice.demo.customers WHERE name like '%o%'\").show()"
   ]
  },
  {
   "cell_type": "markdown",
   "id": "778eecc3-9d3d-4ea6-9fb3-28331d25ffe1",
   "metadata": {},
   "source": [
    "## Demo 2: Time Travel"
   ]
  },
  {
   "cell_type": "markdown",
   "id": "627db932-c7c8-4c2e-9c91-7b252f26ef34",
   "metadata": {},
   "source": [
    "Let's view the snapshots, we had two batches, done at different times. So we should see two snapshots"
   ]
  },
  {
   "cell_type": "code",
   "execution_count": 17,
   "id": "7b43bff6-c2e8-42b9-b237-45e5d2dcfe6c",
   "metadata": {},
   "outputs": [
    {
     "name": "stdout",
     "output_type": "stream",
     "text": [
      "+-------------------+-----------------------+---------+\n",
      "|snapshot_id        |committed_at           |operation|\n",
      "+-------------------+-----------------------+---------+\n",
      "|4519230701306358950|2025-10-09 16:10:35.806|append   |\n",
      "|8272407367179012364|2025-10-09 16:12:16.888|append   |\n",
      "+-------------------+-----------------------+---------+\n",
      "\n"
     ]
    }
   ],
   "source": [
    "spark.sql(\"\"\"\n",
    "  SELECT snapshot_id, committed_at, operation\n",
    "  FROM ice.demo.customers.snapshots\n",
    "  ORDER BY committed_at\n",
    "\"\"\").show(truncate=False)"
   ]
  },
  {
   "cell_type": "markdown",
   "id": "5c511cb1-653b-4690-a448-8f2cf336a839",
   "metadata": {},
   "source": [
    "Let's now view the lineage of the data"
   ]
  },
  {
   "cell_type": "code",
   "execution_count": 18,
   "id": "ed1d489d-8c4d-4248-bb41-b3a9788feeef",
   "metadata": {},
   "outputs": [
    {
     "name": "stdout",
     "output_type": "stream",
     "text": [
      "+-----------------------+-------------------+-------------------+-------------------+\n",
      "|made_current_at        |snapshot_id        |parent_id          |is_current_ancestor|\n",
      "+-----------------------+-------------------+-------------------+-------------------+\n",
      "|2025-10-09 16:10:35.806|4519230701306358950|NULL               |true               |\n",
      "|2025-10-09 16:12:16.888|8272407367179012364|4519230701306358950|true               |\n",
      "+-----------------------+-------------------+-------------------+-------------------+\n",
      "\n"
     ]
    }
   ],
   "source": [
    "spark.sql(\"\"\"\n",
    "  SELECT made_current_at, snapshot_id, parent_id, is_current_ancestor\n",
    "  FROM ice.demo.customers.history\n",
    "  ORDER BY made_current_at\n",
    "\"\"\").show(truncate=False)"
   ]
  },
  {
   "cell_type": "markdown",
   "id": "9305a66b-6a56-4a33-8740-65b5fa254100",
   "metadata": {},
   "source": [
    "Now, let's go back in time by reverting the timestamp"
   ]
  },
  {
   "cell_type": "code",
   "execution_count": 22,
   "id": "ddb8cd45-1ef7-4de9-bb57-ebb69d651a18",
   "metadata": {},
   "outputs": [
    {
     "name": "stdout",
     "output_type": "stream",
     "text": [
      "+---+-----------+-----------------+\n",
      "| id|       name|            email|\n",
      "+---+-----------+-----------------+\n",
      "|  3|Carol Adams|carol@example.com|\n",
      "|  1|Alice Smith|alice@example.com|\n",
      "|  2|Bob Johnson|  bob@example.com|\n",
      "+---+-----------+-----------------+\n",
      "\n"
     ]
    }
   ],
   "source": [
    "spark.conf.set(\"spark.sql.session.timeZone\", \"UTC\")\n",
    "\n",
    "# Replace the following timestamp with one after the initial timestamp\n",
    "ts = \"2025-10-09 16:11:00.000\"\n",
    "\n",
    "df_ts = spark.sql(f\"\"\"\n",
    "  SELECT *\n",
    "  FROM ice.demo.customers\n",
    "  TIMESTAMP AS OF '{ts}'\n",
    "\"\"\")\n",
    "df_ts.show()"
   ]
  },
  {
   "cell_type": "code",
   "execution_count": 23,
   "id": "e9d3f8b7-404e-4c37-8f2a-984e754d88d8",
   "metadata": {},
   "outputs": [
    {
     "name": "stdout",
     "output_type": "stream",
     "text": [
      "+-------------------+-----------------------+---------+\n",
      "|snapshot_id        |committed_at           |operation|\n",
      "+-------------------+-----------------------+---------+\n",
      "|8272407367179012364|2025-10-09 16:12:16.888|append   |\n",
      "|4519230701306358950|2025-10-09 16:10:35.806|append   |\n",
      "+-------------------+-----------------------+---------+\n",
      "\n"
     ]
    }
   ],
   "source": [
    "spark.sql(\"\"\"SELECT snapshot_id, committed_at, operation\n",
    "FROM ice.demo.customers.snapshots\n",
    "ORDER BY committed_at DESC\n",
    "LIMIT 5;\"\"\").show(truncate=False)"
   ]
  },
  {
   "cell_type": "markdown",
   "id": "8fc4cb08-ad03-4854-96ee-7922a4f0e3c0",
   "metadata": {},
   "source": [
    "## Demo 3: Changing the Schema"
   ]
  },
  {
   "cell_type": "code",
   "execution_count": 24,
   "id": "8c6c8132-9f09-4579-93db-518a9fdc8680",
   "metadata": {},
   "outputs": [
    {
     "name": "stdout",
     "output_type": "stream",
     "text": [
      "+--------------------+---------+-------+\n",
      "|            col_name|data_type|comment|\n",
      "+--------------------+---------+-------+\n",
      "|                  id|   bigint|   NULL|\n",
      "|                name|   string|   NULL|\n",
      "|               email|   string|   NULL|\n",
      "|# Partition Infor...|         |       |\n",
      "|          # col_name|data_type|comment|\n",
      "|               email|   string|   NULL|\n",
      "+--------------------+---------+-------+\n",
      "\n"
     ]
    }
   ],
   "source": [
    "spark.sql(\"\"\"DESCRIBE TABLE ice.demo.customers;\"\"\").show()"
   ]
  },
  {
   "cell_type": "code",
   "execution_count": 25,
   "id": "48830c31-960a-4ce9-a77a-8df2ef373ed3",
   "metadata": {},
   "outputs": [
    {
     "data": {
      "text/plain": [
       "DataFrame[]"
      ]
     },
     "execution_count": 25,
     "metadata": {},
     "output_type": "execute_result"
    }
   ],
   "source": [
    "spark.sql(\"\"\"ALTER TABLE ice.demo.customers\n",
    "ADD COLUMN country STRING COMMENT 'ISO 3166-1 code' AFTER email;\"\"\")"
   ]
  },
  {
   "cell_type": "code",
   "execution_count": 26,
   "id": "4cb493c6-806f-4218-a0fd-e9d3f1558229",
   "metadata": {},
   "outputs": [
    {
     "name": "stdout",
     "output_type": "stream",
     "text": [
      "+--------------------+---------+---------------+\n",
      "|            col_name|data_type|        comment|\n",
      "+--------------------+---------+---------------+\n",
      "|                  id|   bigint|           NULL|\n",
      "|                name|   string|           NULL|\n",
      "|               email|   string|           NULL|\n",
      "|             country|   string|ISO 3166-1 code|\n",
      "|# Partition Infor...|         |               |\n",
      "|          # col_name|data_type|        comment|\n",
      "|               email|   string|           NULL|\n",
      "+--------------------+---------+---------------+\n",
      "\n"
     ]
    }
   ],
   "source": [
    "spark.sql(\"\"\"DESCRIBE TABLE ice.demo.customers;\"\"\").show()"
   ]
  },
  {
   "cell_type": "code",
   "execution_count": 27,
   "id": "954b7d25-78d7-4125-b304-c9e4a842f0c4",
   "metadata": {},
   "outputs": [
    {
     "name": "stdout",
     "output_type": "stream",
     "text": [
      "++\n",
      "||\n",
      "++\n",
      "++\n",
      "\n"
     ]
    }
   ],
   "source": [
    "spark.sql(\"\"\"UPDATE ice.demo.customers\n",
    "SET country = 'US'\n",
    "WHERE email LIKE '%@example.com';\"\"\").show()"
   ]
  },
  {
   "cell_type": "code",
   "execution_count": 28,
   "id": "1eb8c54a-bb3f-46dc-9cc5-24628859189c",
   "metadata": {},
   "outputs": [
    {
     "name": "stdout",
     "output_type": "stream",
     "text": [
      "+---+--------------+--------------------+-------+\n",
      "| id|          name|               email|country|\n",
      "+---+--------------+--------------------+-------+\n",
      "| 22|      Zoe King|zoe.king@example.com|     US|\n",
      "| 21|   Jack Wilson|jack.wilson@examp...|     US|\n",
      "| 15|Isabella Rossi|isabella.rossi@ex...|     US|\n",
      "|  1|   Alice Smith|   alice@example.com|     US|\n",
      "|  2|   Bob Johnson|     bob@example.com|     US|\n",
      "| 12|  Lucas Martin|lucas.martin@exam...|     US|\n",
      "| 18|   Henry Scott|henry.scott@examp...|     US|\n",
      "| 16|  James Nguyen|james.nguyen@exam...|     US|\n",
      "|  5|    Maya Patel|maya.patel@exampl...|     US|\n",
      "|  7| Sofia Almeida|sofia.almeida@exa...|     US|\n",
      "| 19|  Aria Johnson|aria.johnson@exam...|     US|\n",
      "|  3|   Carol Adams|   carol@example.com|     US|\n",
      "| 20| Daniela Costa|daniela.costa@exa...|     US|\n",
      "|  4| Diego Ramirez|diego.ramirez@exa...|     US|\n",
      "| 17|    Mila Novak|mila.novak@exampl...|     US|\n",
      "|  8| Noah Williams|noah.williams@exa...|     US|\n",
      "|  9|  Ava Thompson|ava.thompson@exam...|     US|\n",
      "| 11| Olivia Garcia|olivia.garcia@exa...|     US|\n",
      "| 13| Emma Robinson|emma.robinson@exa...|     US|\n",
      "| 10|    Ethan Chen|ethan.chen@exampl...|     US|\n",
      "+---+--------------+--------------------+-------+\n",
      "only showing top 20 rows\n",
      "\n"
     ]
    }
   ],
   "source": [
    "spark.sql(\"SELECT * FROM ice.demo.customers\").show()"
   ]
  },
  {
   "cell_type": "markdown",
   "id": "137ef8f5-0a66-4114-8059-23e40cf52de2",
   "metadata": {},
   "source": [
    "Let's go back before we edited the schema. Here is a list of operations in Iceberg\n",
    "\n",
    "| Operation            | Meaning                                                                 | Typical Trigger / Example                                     |\n",
    "|----------------------|-------------------------------------------------------------------------|---------------------------------------------------------------|\n",
    "| **append**           | Adds new data files to the table without touching existing ones         | `INSERT INTO ...`, batch ingest                               |\n",
    "| **overwrite**        | Replaces existing data files with new ones                              | `INSERT OVERWRITE`, Spark `.mode(\"overwrite\")` writes         |\n",
    "| **replace partitions** | Overwrites only affected partitions, leaving others intact            | Dynamic partition overwrite in Spark streaming                |\n",
    "| **delete**           | Removes rows from files (position deletes or equality deletes)          | `DELETE FROM table WHERE ...`                                 |\n",
    "| **update**           | Updates rows (internally: delete + insert of modified rows)             | `UPDATE table SET ... WHERE ...`                              |\n",
    "| **rewrite** (or `replace`) | Rewrites data files without logical changes (optimization/compaction) | `REWRITE DATA`, clustering, file compaction                   |\n",
    "| **fast-append**      | Fast ingestion, skips some validation checks (legacy mode)              | Optimized append from some engines                            |"
   ]
  },
  {
   "cell_type": "code",
   "execution_count": 31,
   "id": "318918ed-33d7-40fa-a9cb-3256cbd0a039",
   "metadata": {},
   "outputs": [
    {
     "name": "stdout",
     "output_type": "stream",
     "text": [
      "+-------------------+-----------------------+---------+\n",
      "|snapshot_id        |committed_at           |operation|\n",
      "+-------------------+-----------------------+---------+\n",
      "|5989591670914269974|2025-10-09 16:13:53.304|overwrite|\n",
      "|8272407367179012364|2025-10-09 16:12:16.888|append   |\n",
      "|4519230701306358950|2025-10-09 16:10:35.806|append   |\n",
      "+-------------------+-----------------------+---------+\n",
      "\n"
     ]
    }
   ],
   "source": [
    "spark.sql(\"\"\"SELECT snapshot_id, committed_at, operation\n",
    "FROM ice.demo.customers.snapshots\n",
    "ORDER BY committed_at DESC\n",
    "LIMIT 5;\"\"\").show(truncate=False)"
   ]
  },
  {
   "cell_type": "markdown",
   "id": "f1e6902d-322f-4362-a684-bf98b0e44024",
   "metadata": {},
   "source": [
    "Notice at this point that there is the old schema since we had a different schema back then"
   ]
  },
  {
   "cell_type": "code",
   "execution_count": 32,
   "id": "025a76d8-2d1f-4b4d-a93d-6dd8f8a2fcce",
   "metadata": {},
   "outputs": [
    {
     "name": "stdout",
     "output_type": "stream",
     "text": [
      "+---+--------------+--------------------------+\n",
      "|id |name          |email                     |\n",
      "+---+--------------+--------------------------+\n",
      "|22 |Zoe King      |zoe.king@example.com      |\n",
      "|21 |Jack Wilson   |jack.wilson@example.com   |\n",
      "|15 |Isabella Rossi|isabella.rossi@example.com|\n",
      "|12 |Lucas Martin  |lucas.martin@example.com  |\n",
      "|18 |Henry Scott   |henry.scott@example.com   |\n",
      "|16 |James Nguyen  |james.nguyen@example.com  |\n",
      "|5  |Maya Patel    |maya.patel@example.com    |\n",
      "|7  |Sofia Almeida |sofia.almeida@example.com |\n",
      "|19 |Aria Johnson  |aria.johnson@example.com  |\n",
      "|20 |Daniela Costa |daniela.costa@example.com |\n",
      "|4  |Diego Ramirez |diego.ramirez@example.com |\n",
      "|8  |Noah Williams |noah.williams@example.com |\n",
      "|17 |Mila Novak    |mila.novak@example.com    |\n",
      "|9  |Ava Thompson  |ava.thompson@example.com  |\n",
      "|11 |Olivia Garcia |olivia.garcia@example.com |\n",
      "|13 |Emma Robinson |emma.robinson@example.com |\n",
      "|10 |Ethan Chen    |ethan.chen@example.com    |\n",
      "|6  |Liam O’Connor |liam.oconnor@example.com  |\n",
      "|14 |Benjamin Kim  |benjamin.kim@example.com  |\n",
      "|23 |Oliver Brown  |oliver.brown@example.com  |\n",
      "+---+--------------+--------------------------+\n",
      "only showing top 20 rows\n",
      "\n"
     ]
    }
   ],
   "source": [
    "spark.sql(\"\"\"SELECT *\n",
    "FROM ice.demo.customers\n",
    "VERSION AS OF '8272407367179012364';\"\"\").show(truncate=False)"
   ]
  },
  {
   "cell_type": "markdown",
   "id": "4e6a1fd9-5253-4a60-a043-c94788b8d13a",
   "metadata": {},
   "source": [
    "## Demo 4: Deletes"
   ]
  },
  {
   "cell_type": "code",
   "execution_count": 33,
   "id": "33592e6e-e0fa-4387-a73e-6ac949770efd",
   "metadata": {},
   "outputs": [
    {
     "data": {
      "text/plain": [
       "DataFrame[]"
      ]
     },
     "execution_count": 33,
     "metadata": {},
     "output_type": "execute_result"
    }
   ],
   "source": [
    "spark.sql(\"\"\"DELETE FROM ice.demo.customers WHERE name like '%ak%'\"\"\")"
   ]
  },
  {
   "cell_type": "markdown",
   "id": "25aa31af-5e22-4336-9d26-0e6611779614",
   "metadata": {},
   "source": [
    "Next let's show the results"
   ]
  },
  {
   "cell_type": "code",
   "execution_count": 34,
   "id": "d39855e9-2ff4-43d3-a19e-9516318a9129",
   "metadata": {},
   "outputs": [
    {
     "name": "stdout",
     "output_type": "stream",
     "text": [
      "+---+--------------+--------------------------+-------+\n",
      "|id |name          |email                     |country|\n",
      "+---+--------------+--------------------------+-------+\n",
      "|22 |Zoe King      |zoe.king@example.com      |US     |\n",
      "|21 |Jack Wilson   |jack.wilson@example.com   |US     |\n",
      "|15 |Isabella Rossi|isabella.rossi@example.com|US     |\n",
      "|1  |Alice Smith   |alice@example.com         |US     |\n",
      "|2  |Bob Johnson   |bob@example.com           |US     |\n",
      "|12 |Lucas Martin  |lucas.martin@example.com  |US     |\n",
      "|18 |Henry Scott   |henry.scott@example.com   |US     |\n",
      "|16 |James Nguyen  |james.nguyen@example.com  |US     |\n",
      "|5  |Maya Patel    |maya.patel@example.com    |US     |\n",
      "|7  |Sofia Almeida |sofia.almeida@example.com |US     |\n",
      "|19 |Aria Johnson  |aria.johnson@example.com  |US     |\n",
      "|3  |Carol Adams   |carol@example.com         |US     |\n",
      "|20 |Daniela Costa |daniela.costa@example.com |US     |\n",
      "|4  |Diego Ramirez |diego.ramirez@example.com |US     |\n",
      "|8  |Noah Williams |noah.williams@example.com |US     |\n",
      "|9  |Ava Thompson  |ava.thompson@example.com  |US     |\n",
      "|11 |Olivia Garcia |olivia.garcia@example.com |US     |\n",
      "|13 |Emma Robinson |emma.robinson@example.com |US     |\n",
      "|10 |Ethan Chen    |ethan.chen@example.com    |US     |\n",
      "|6  |Liam O’Connor |liam.oconnor@example.com  |US     |\n",
      "+---+--------------+--------------------------+-------+\n",
      "only showing top 20 rows\n",
      "\n"
     ]
    }
   ],
   "source": [
    "spark.sql(\"\"\"SELECT *\n",
    "FROM ice.demo.customers;\"\"\").show(truncate=False)"
   ]
  },
  {
   "cell_type": "markdown",
   "id": "0f2555b1-5ec3-4e9c-89ab-790249cc7abd",
   "metadata": {},
   "source": [
    "Let's view the snapshots that have been committed up to this point and we will notice a `delete` operation as part of the snapshot history"
   ]
  },
  {
   "cell_type": "code",
   "execution_count": 36,
   "id": "3b2ed3f4-3970-4c47-8312-4351c15a880a",
   "metadata": {},
   "outputs": [
    {
     "name": "stdout",
     "output_type": "stream",
     "text": [
      "+-------------------+-----------------------+---------+\n",
      "|snapshot_id        |committed_at           |operation|\n",
      "+-------------------+-----------------------+---------+\n",
      "|516322263074055114 |2025-10-09 16:14:31.448|delete   |\n",
      "|5989591670914269974|2025-10-09 16:13:53.304|overwrite|\n",
      "|8272407367179012364|2025-10-09 16:12:16.888|append   |\n",
      "|4519230701306358950|2025-10-09 16:10:35.806|append   |\n",
      "+-------------------+-----------------------+---------+\n",
      "\n"
     ]
    }
   ],
   "source": [
    "spark.sql(\"\"\"SELECT snapshot_id, committed_at, operation\n",
    "FROM ice.demo.customers.snapshots\n",
    "ORDER BY committed_at DESC\n",
    "LIMIT 5;\"\"\").show(truncate=False)"
   ]
  },
  {
   "cell_type": "markdown",
   "id": "18950e3f-a792-4bb1-8135-11f765c17fb0",
   "metadata": {},
   "source": [
    "Again, let's go back in time, and see if we can see Mila"
   ]
  },
  {
   "cell_type": "code",
   "execution_count": 37,
   "id": "14abd31e-552b-4bf5-99d7-e1b788ae39b5",
   "metadata": {},
   "outputs": [
    {
     "name": "stdout",
     "output_type": "stream",
     "text": [
      "+---+--------------+--------------------------+-------+\n",
      "|id |name          |email                     |country|\n",
      "+---+--------------+--------------------------+-------+\n",
      "|22 |Zoe King      |zoe.king@example.com      |US     |\n",
      "|21 |Jack Wilson   |jack.wilson@example.com   |US     |\n",
      "|15 |Isabella Rossi|isabella.rossi@example.com|US     |\n",
      "|1  |Alice Smith   |alice@example.com         |US     |\n",
      "|2  |Bob Johnson   |bob@example.com           |US     |\n",
      "|12 |Lucas Martin  |lucas.martin@example.com  |US     |\n",
      "|18 |Henry Scott   |henry.scott@example.com   |US     |\n",
      "|16 |James Nguyen  |james.nguyen@example.com  |US     |\n",
      "|5  |Maya Patel    |maya.patel@example.com    |US     |\n",
      "|7  |Sofia Almeida |sofia.almeida@example.com |US     |\n",
      "|19 |Aria Johnson  |aria.johnson@example.com  |US     |\n",
      "|3  |Carol Adams   |carol@example.com         |US     |\n",
      "|20 |Daniela Costa |daniela.costa@example.com |US     |\n",
      "|4  |Diego Ramirez |diego.ramirez@example.com |US     |\n",
      "|17 |Mila Novak    |mila.novak@example.com    |US     |\n",
      "|8  |Noah Williams |noah.williams@example.com |US     |\n",
      "|9  |Ava Thompson  |ava.thompson@example.com  |US     |\n",
      "|11 |Olivia Garcia |olivia.garcia@example.com |US     |\n",
      "|13 |Emma Robinson |emma.robinson@example.com |US     |\n",
      "|10 |Ethan Chen    |ethan.chen@example.com    |US     |\n",
      "+---+--------------+--------------------------+-------+\n",
      "only showing top 20 rows\n",
      "\n"
     ]
    }
   ],
   "source": [
    "spark.sql(\"\"\"SELECT *\n",
    "FROM ice.demo.customers\n",
    "VERSION AS OF '5989591670914269974';\"\"\").show(truncate=False)"
   ]
  },
  {
   "cell_type": "code",
   "execution_count": 38,
   "id": "dc4ca027-05ab-432e-b24d-4940840ff73b",
   "metadata": {},
   "outputs": [],
   "source": [
    "spark.stop()"
   ]
  }
 ],
 "metadata": {
  "kernelspec": {
   "display_name": "Python 3 (ipykernel)",
   "language": "python",
   "name": "python3"
  },
  "language_info": {
   "codemirror_mode": {
    "name": "ipython",
    "version": 3
   },
   "file_extension": ".py",
   "mimetype": "text/x-python",
   "name": "python",
   "nbconvert_exporter": "python",
   "pygments_lexer": "ipython3",
   "version": "3.11.10"
  }
 },
 "nbformat": 4,
 "nbformat_minor": 5
}
